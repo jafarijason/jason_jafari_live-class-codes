{
 "cells": [
  {
   "cell_type": "code",
   "execution_count": null,
   "id": "4e3ccbfa-f77a-4106-8511-a1d542a201b8",
   "metadata": {},
   "outputs": [],
   "source": [
    "import numpy as np\n",
    "import pandas as pd\n",
    "import matplotlib.pyplot as plt"
   ]
  },
  {
   "cell_type": "code",
   "execution_count": null,
   "id": "4b57efb0-3312-4309-82ac-65352ec70160",
   "metadata": {},
   "outputs": [],
   "source": [
    "# https://www.statsmodels.org/stable/index.html\n",
    "import statsmodels.api as sm"
   ]
  },
  {
   "cell_type": "code",
   "execution_count": null,
   "id": "b01fa032-6521-439c-90e1-71f859d2ab8e",
   "metadata": {},
   "outputs": [],
   "source": [
    "import warnings\n",
    "warnings.filterwarnings(\"ignore\")"
   ]
  },
  {
   "cell_type": "code",
   "execution_count": null,
   "id": "8ebe01ca-c09e-42bd-bb51-e686eca5a812",
   "metadata": {},
   "outputs": [],
   "source": [
    "from functools import partial"
   ]
  },
  {
   "cell_type": "code",
   "execution_count": 5,
   "id": "059eeedd-dadd-4c0d-9c54-4d7255e6bd6a",
   "metadata": {},
   "outputs": [
    {
     "name": "stdout",
     "output_type": "stream",
     "text": [
      "envs Loaded\n"
     ]
    }
   ],
   "source": [
    "from dotenv import load_dotenv\n",
    "\n",
    "from pathlib import Path\n",
    "\n",
    "env_path = Path(\"../../.env-live\")\n",
    "\n",
    "if env_path.exists():\n",
    "    print('envs Loaded')\n",
    "    load_dotenv(dotenv_path=env_path)\n",
    "from jrjModelRegistry.jrjModelRegistry import registerAJrjModel"
   ]
  },
  {
   "cell_type": "code",
   "execution_count": 6,
   "id": "e4d6979f-5e17-40dc-ba58-0ba59ea4812e",
   "metadata": {},
   "outputs": [
    {
     "name": "stdout",
     "output_type": "stream",
     "text": [
      "s3.ca-central-1.wasabisys.com/273-g1\n"
     ]
    }
   ],
   "source": [
    "import os\n",
    "print(os.environ.get('JRJ_MODEL_REGISTRY_S3_ENDPOINT', \"Not Found\"))"
   ]
  },
  {
   "cell_type": "code",
   "execution_count": null,
   "id": "f288268b-dc4a-44c3-8589-e155b1f3d61f",
   "metadata": {},
   "outputs": [],
   "source": [
    "def generalRegressionPredictor(self, transformedData):\n",
    "    return self.predict(transformedData)"
   ]
  },
  {
   "cell_type": "code",
   "execution_count": null,
   "id": "a91a561c-00df-4dfa-b17f-6012d37f7ebb",
   "metadata": {},
   "outputs": [],
   "source": [
    "sallaryMisDf = pd.read_excel(\"https://www.dropbox.com/scl/fi/zt2vtwhpz8ndblsxqdqx1/Salary_MIS.xlsx?rlkey=2uk6m7m9w90isv6zsynhhhpyv&st=gxumjns5&dl=1\")"
   ]
  },
  {
   "cell_type": "code",
   "execution_count": null,
   "id": "f61f44a5-e798-44ae-8292-f9077fcbcba7",
   "metadata": {},
   "outputs": [],
   "source": [
    "sallaryMisDf"
   ]
  },
  {
   "cell_type": "code",
   "execution_count": null,
   "id": "a69d9ed0-38e2-4470-bfc3-21b0b84cfa2c",
   "metadata": {},
   "outputs": [],
   "source": [
    "sallaryMisDf.shape"
   ]
  },
  {
   "cell_type": "code",
   "execution_count": null,
   "id": "5219a144-9e69-4315-b8df-930727cdc53e",
   "metadata": {},
   "outputs": [],
   "source": [
    "sallaryMisDf.describe()"
   ]
  },
  {
   "cell_type": "code",
   "execution_count": null,
   "id": "74580721-0859-4644-90e8-ef2b172c0e53",
   "metadata": {},
   "outputs": [],
   "source": [
    "sallaryMisDf.shape"
   ]
  },
  {
   "cell_type": "code",
   "execution_count": null,
   "id": "81c821c8-d191-4262-b2e5-6d3c577d0b5a",
   "metadata": {},
   "outputs": [],
   "source": [
    "def salaryRegModel1Transformer(dataForTransfer = None):\n",
    "    import pandas as pd\n",
    "    import statsmodels.api as sm\n",
    "    if isinstance(dataForTransfer, pd.DataFrame):\n",
    "        df = dataForTransfer.copy()\n",
    "    else:\n",
    "        df = pd.DataFrame(dataForTransfer)\n",
    "    dfTransformer = sm.add_constant(df[['GPA', 'MIS', 'Statistics']],has_constant='add')\n",
    "    return dfTransformer"
   ]
  },
  {
   "cell_type": "code",
   "execution_count": null,
   "id": "299fdc46-94c5-4fae-87b9-52f24f35911e",
   "metadata": {},
   "outputs": [],
   "source": [
    "sm.add_constant(sallaryMisDf[[\"GPA\", \"MIS\", \"Statistics\"]])"
   ]
  },
  {
   "cell_type": "code",
   "execution_count": null,
   "id": "dba09139-2b89-43d1-9b4d-53e0db9a870b",
   "metadata": {},
   "outputs": [],
   "source": [
    "salaryRegModel1Transformer(sallaryMisDf)"
   ]
  },
  {
   "cell_type": "code",
   "execution_count": null,
   "id": "f9f2ebc5-ad03-42c5-a694-6638d0b1ec38",
   "metadata": {},
   "outputs": [],
   "source": [
    "# salaryRegModel1 = sm.OLS(\n",
    "#   sallaryMisDf[\"Salary\"],\n",
    "#   sm.add_constant(sallaryMisDf[[\"GPA\", \"MIS\", \"Statistics\"]])\n",
    "# )"
   ]
  },
  {
   "cell_type": "code",
   "execution_count": null,
   "id": "f018a9d4-ea7a-4cf8-88da-1643c4e6975f",
   "metadata": {},
   "outputs": [],
   "source": [
    "salaryRegModel1 = sm.OLS(\n",
    "  sallaryMisDf[\"Salary\"],\n",
    "  salaryRegModel1Transformer(sallaryMisDf)\n",
    ")"
   ]
  },
  {
   "cell_type": "code",
   "execution_count": null,
   "id": "412c9836-3f88-4cf5-84c1-410cf92fbc81",
   "metadata": {},
   "outputs": [],
   "source": [
    "    salaryRegModel1Fit = salaryRegModel1.fit()"
   ]
  },
  {
   "cell_type": "code",
   "execution_count": null,
   "id": "e604a267-4174-4930-9bb2-cecd59128c55",
   "metadata": {},
   "outputs": [],
   "source": [
    "print(salaryRegModel1Fit.summary())"
   ]
  },
  {
   "cell_type": "code",
   "execution_count": null,
   "id": "532535d8-4c8e-46c4-b4ae-fbdfcdb59747",
   "metadata": {},
   "outputs": [],
   "source": [
    "sallaryMisDf"
   ]
  },
  {
   "cell_type": "code",
   "execution_count": null,
   "id": "da5ba7d2-498f-463c-9bcb-9cc3326f3246",
   "metadata": {},
   "outputs": [],
   "source": [
    "salaryRegModel1SampleData = {\n",
    "    \"GPA\": [3.53],\n",
    "    \"MIS\": [1],\n",
    "    \"Statistics\": [0]\n",
    "}"
   ]
  },
  {
   "cell_type": "code",
   "execution_count": null,
   "id": "1c7d8959-f5bd-4e63-a100-9f72752fee21",
   "metadata": {},
   "outputs": [],
   "source": [
    "salaryRegModel1Fit.transformer = salaryRegModel1Transformer"
   ]
  },
  {
   "cell_type": "code",
   "execution_count": null,
   "id": "0d8127fa-3ced-45ac-954a-bee39c0a5101",
   "metadata": {},
   "outputs": [],
   "source": [
    "test1 = salaryRegModel1Fit.transformer(salaryRegModel1SampleData)\n",
    "test1\n",
    "# salaryRegModel1Fit.mainPredictor(test1)"
   ]
  },
  {
   "cell_type": "code",
   "execution_count": null,
   "id": "57ffe99a-6710-4307-a1b8-51066e859946",
   "metadata": {},
   "outputs": [],
   "source": [
    "# def generalRegressionPredictor(self, transformedData):\n",
    "#     return self.predict(transformedData)"
   ]
  },
  {
   "cell_type": "code",
   "execution_count": null,
   "id": "c23c3812-84bc-4b72-ab53-8fa811df9efe",
   "metadata": {},
   "outputs": [],
   "source": [
    "salaryRegModel1Fit.mainPredictor = partial(generalRegressionPredictor, salaryRegModel1Fit)"
   ]
  },
  {
   "cell_type": "code",
   "execution_count": null,
   "id": "dc10a2ff-0cb8-4eb9-b1cb-b1ea93099666",
   "metadata": {},
   "outputs": [],
   "source": [
    "salaryRegModel1Fit.mainPredictor(test1)"
   ]
  },
  {
   "cell_type": "code",
   "execution_count": null,
   "id": "a68edd3a-22da-4b26-84b0-6e7d403d19ac",
   "metadata": {},
   "outputs": [],
   "source": [
    "salaryRegModel1FitMetadata = {\n",
    "    \"modelName\":f\"jason_jafari__salaryRegModel1Fit\",\n",
    "    \"version\":\"1.0.1\",\n",
    "    \"params\": salaryRegModel1Fit.params.to_dict(),\n",
    "    \"score\": float(salaryRegModel1Fit.rsquared),\n",
    "    \"modelLibraray\": 'sm.OLS',\n",
    "    \"libraryMetadata\": {\n",
    "        \"pvalues\": salaryRegModel1Fit.pvalues.to_dict(),\n",
    "        \"r_squared\": float(salaryRegModel1Fit.rsquared),\n",
    "        \"adj_r_squared\": float(salaryRegModel1Fit.rsquared_adj)\n",
    "    },\n",
    "\n",
    "    \"sampleData\": {\n",
    "        \"dataForTransfer\": salaryRegModel1SampleData\n",
    "    }\n",
    "}\n",
    "salaryRegModel1FitMetadata"
   ]
  },
  {
   "cell_type": "code",
   "execution_count": null,
   "id": "68c07df1-b92f-47d2-9e01-641356e6d991",
   "metadata": {},
   "outputs": [],
   "source": [
    "registerAJrjModel(salaryRegModel1Fit, salaryRegModel1FitMetadata)"
   ]
  },
  {
   "cell_type": "code",
   "execution_count": null,
   "id": "c469eb9a-65ae-401c-b042-a5566de095de",
   "metadata": {},
   "outputs": [],
   "source": [
    "sallaryMisDf"
   ]
  },
  {
   "cell_type": "code",
   "execution_count": null,
   "id": "bef410c3-df6e-44a0-98d7-6689dd78378f",
   "metadata": {},
   "outputs": [],
   "source": [
    "# sallaryMisDf[\"misXStatistics\"] = sallaryMisDf[\"MIS\"] * sallaryMisDf[\"Statistics\"]\n",
    "sallaryMisDf['misXStatistics'] = sallaryMisDf.apply(lambda row: row['MIS'] * row['Statistics'], axis=1)\n",
    "\n",
    "sallaryMisDf"
   ]
  },
  {
   "cell_type": "code",
   "execution_count": null,
   "id": "40de4640-72d1-4395-ab5c-d59a51caa3cd",
   "metadata": {},
   "outputs": [],
   "source": [
    "def salaryRegModel2Transformer(dataForTransfer = None):\n",
    "    import pandas as pd\n",
    "    import statsmodels.api as sm\n",
    "    if isinstance(dataForTransfer, pd.DataFrame):\n",
    "        df = dataForTransfer.copy()\n",
    "    else:\n",
    "        df = pd.DataFrame(dataForTransfer)\n",
    "    df['misXStatistics'] = df.apply(lambda row: row['MIS'] * row['Statistics'], axis=1)\n",
    "    dfTransformer = sm.add_constant(df[['GPA', 'MIS', 'Statistics', 'misXStatistics']],has_constant='add')\n",
    "    return dfTransformer"
   ]
  },
  {
   "cell_type": "code",
   "execution_count": null,
   "id": "8a49730e-383a-4064-b594-4d3e54d749a1",
   "metadata": {},
   "outputs": [],
   "source": [
    "salaryRegModel2Transformer(sallaryMisDf)"
   ]
  },
  {
   "cell_type": "code",
   "execution_count": null,
   "id": "c202e0a7-d558-4704-943b-e43b39feec6f",
   "metadata": {},
   "outputs": [],
   "source": [
    "salaryRegModel2 = sm.OLS(\n",
    "  sallaryMisDf[\"Salary\"],\n",
    "  salaryRegModel2Transformer(sallaryMisDf)\n",
    ")"
   ]
  },
  {
   "cell_type": "code",
   "execution_count": null,
   "id": "a9569f6e-4727-4187-b70f-3c9cf94220f5",
   "metadata": {},
   "outputs": [],
   "source": [
    "salaryRegModel2Fit = salaryRegModel2.fit()"
   ]
  },
  {
   "cell_type": "code",
   "execution_count": null,
   "id": "803f5f04-6fbd-4ab7-abd1-bcf200689f89",
   "metadata": {},
   "outputs": [],
   "source": [
    "print(salaryRegModel2Fit.summary())"
   ]
  },
  {
   "cell_type": "code",
   "execution_count": null,
   "id": "06ebe00c-faa0-4ecd-b83d-b0a6ecd68514",
   "metadata": {},
   "outputs": [],
   "source": [
    "salaryRegModel2Fit.transformer = salaryRegModel2Transformer"
   ]
  },
  {
   "cell_type": "code",
   "execution_count": null,
   "id": "3e09092e-748a-4605-9785-3219f0221264",
   "metadata": {},
   "outputs": [],
   "source": [
    "salaryRegModel2Fit.mainPredictor = partial(generalRegressionPredictor, salaryRegModel2Fit)"
   ]
  },
  {
   "cell_type": "code",
   "execution_count": null,
   "id": "ef3fcaf3-cc96-4bb2-b574-7ff92e4bad43",
   "metadata": {},
   "outputs": [],
   "source": [
    "test2 = salaryRegModel2Fit.transformer(salaryRegModel1SampleData)\n",
    "test2"
   ]
  },
  {
   "cell_type": "code",
   "execution_count": null,
   "id": "52c242ca-7ce0-4f5d-a9e4-d37f45f78396",
   "metadata": {},
   "outputs": [],
   "source": [
    "salaryRegModel2Fit.mainPredictor(test2)"
   ]
  },
  {
   "cell_type": "code",
   "execution_count": null,
   "id": "7d0810ac-541e-48b1-a888-6a4ebaf90414",
   "metadata": {},
   "outputs": [],
   "source": [
    "salaryRegModel2FitMetadata = {\n",
    "    \"modelName\":f\"salaryRegModel2Fit\",\n",
    "    \"version\":\"1.0.1\",\n",
    "    \"params\": salaryRegModel2Fit.params.to_dict(),\n",
    "    \"score\": float(salaryRegModel2Fit.rsquared),\n",
    "    \"modelLibraray\": 'sm.OLS',\n",
    "    \"libraryMetadata\": {\n",
    "        \"pvalues\": salaryRegModel2Fit.pvalues.to_dict(),\n",
    "        \"r_squared\": float(salaryRegModel2Fit.rsquared),\n",
    "        \"adj_r_squared\": float(salaryRegModel2Fit.rsquared_adj)\n",
    "    },\n",
    "\n",
    "    \"sampleData\": {\n",
    "        \"dataForTransfer\": salaryRegModel1SampleData\n",
    "    }\n",
    "}\n",
    "salaryRegModel2FitMetadata"
   ]
  },
  {
   "cell_type": "code",
   "execution_count": null,
   "id": "0f73e07b-5701-4f74-b55e-32029ff0f955",
   "metadata": {},
   "outputs": [],
   "source": [
    "registerAJrjModel(salaryRegModel2Fit, salaryRegModel2FitMetadata)"
   ]
  },
  {
   "cell_type": "code",
   "execution_count": null,
   "id": "1c9ea991-1b99-4de4-95b6-691fcb8b9670",
   "metadata": {},
   "outputs": [],
   "source": [
    "sallaryMisDf['misXGpa'] = sallaryMisDf.apply(lambda row: row['MIS'] * row['GPA'], axis=1)\n",
    "\n",
    "sallaryMisDf\n"
   ]
  },
  {
   "cell_type": "code",
   "execution_count": null,
   "id": "aaf8892b-f6f0-44a0-b111-0b06498bb0f3",
   "metadata": {},
   "outputs": [],
   "source": [
    "def salaryRegModel3Transformer(dataForTransfer = None):\n",
    "    import pandas as pd\n",
    "    import statsmodels.api as sm\n",
    "    if isinstance(dataForTransfer, pd.DataFrame):\n",
    "        df = dataForTransfer.copy()\n",
    "    else:\n",
    "        df = pd.DataFrame(dataForTransfer)\n",
    "    df['misXGpa'] = df.apply(lambda row: row['MIS'] * row['GPA'], axis=1)\n",
    "    dfTransformer = sm.add_constant(df[['GPA', 'MIS', 'Statistics', 'misXGpa']],has_constant='add')\n",
    "    return dfTransformer"
   ]
  },
  {
   "cell_type": "code",
   "execution_count": null,
   "id": "d99ae1c3-c61b-4b3f-86ec-a369b8d1c8cb",
   "metadata": {},
   "outputs": [],
   "source": [
    "salaryRegModel3Transformer(sallaryMisDf)"
   ]
  },
  {
   "cell_type": "code",
   "execution_count": null,
   "id": "079dd30c-b259-4d8c-b052-ccbd95c00228",
   "metadata": {},
   "outputs": [],
   "source": [
    "salaryRegModel3 = sm.OLS(\n",
    "  sallaryMisDf[\"Salary\"],\n",
    "  salaryRegModel3Transformer(sallaryMisDf)\n",
    ")"
   ]
  },
  {
   "cell_type": "code",
   "execution_count": null,
   "id": "1bd0c7dc-57db-486b-a986-8b46f0098764",
   "metadata": {},
   "outputs": [],
   "source": [
    "salaryRegModel3Fit = salaryRegModel3.fit()"
   ]
  },
  {
   "cell_type": "code",
   "execution_count": null,
   "id": "839d701f-e6e9-4a13-a611-03abeffa7daf",
   "metadata": {},
   "outputs": [],
   "source": [
    "print(salaryRegModel3Fit.summary())"
   ]
  },
  {
   "cell_type": "code",
   "execution_count": null,
   "id": "c1be5bd6-fa1d-4c1f-b2a2-e60c92eaa882",
   "metadata": {},
   "outputs": [],
   "source": [
    "salaryRegModel3Fit.transformer = salaryRegModel3Transformer\n",
    "salaryRegModel3Fit.mainPredictor = partial(generalRegressionPredictor, salaryRegModel3Fit)\n",
    "registerAJrjModel(\n",
    "    salaryRegModel3Fit,\n",
    "    {\n",
    "        \"modelName\":f\"salaryRegModel3Fit\",\n",
    "        \"version\":\"1.0.1\",\n",
    "        \"params\": salaryRegModel3Fit.params.to_dict(),\n",
    "        \"score\": float(salaryRegModel3Fit.rsquared),\n",
    "        \"modelLibraray\": 'sm.OLS',\n",
    "        \"libraryMetadata\": {\n",
    "            \"pvalues\": salaryRegModel3Fit.pvalues.to_dict(),\n",
    "            \"r_squared\": float(salaryRegModel3Fit.rsquared),\n",
    "            \"adj_r_squared\": float(salaryRegModel3Fit.rsquared_adj)\n",
    "        },\n",
    "    \n",
    "        \"sampleData\": {\n",
    "            \"dataForTransfer\": salaryRegModel1SampleData\n",
    "        }\n",
    "    }\n",
    ")\n"
   ]
  },
  {
   "cell_type": "code",
   "execution_count": null,
   "id": "f4b0552c-beec-480e-b06f-5f8eec606cc1",
   "metadata": {},
   "outputs": [],
   "source": [
    "sallaryMisDf['statisticsXGpa'] = sallaryMisDf.apply(lambda row: row['Statistics'] * row['GPA'], axis=1)\n",
    "\n",
    "sallaryMisDf"
   ]
  },
  {
   "cell_type": "code",
   "execution_count": null,
   "id": "8dd8f867-c0e1-4e3d-a4ec-5fc770c99a68",
   "metadata": {},
   "outputs": [],
   "source": [
    "def salaryRegModel4Transformer(dataForTransfer = None):\n",
    "    import pandas as pd\n",
    "    import statsmodels.api as sm\n",
    "    if isinstance(dataForTransfer, pd.DataFrame):\n",
    "        df = dataForTransfer.copy()\n",
    "    else:\n",
    "        df = pd.DataFrame(dataForTransfer)\n",
    "    df['statisticsXGpa'] = df.apply(lambda row: row['Statistics'] * row['GPA'], axis=1)\n",
    "    dfTransformer = sm.add_constant(df[['GPA', 'MIS', 'Statistics', 'statisticsXGpa']],has_constant='add')\n",
    "    return dfTransformer"
   ]
  },
  {
   "cell_type": "code",
   "execution_count": null,
   "id": "18ebdb71-fd7e-4a15-9cda-f8548b277824",
   "metadata": {},
   "outputs": [],
   "source": [
    "salaryRegModel4 = sm.OLS(\n",
    "  sallaryMisDf[\"Salary\"],\n",
    "  salaryRegModel4Transformer(sallaryMisDf)\n",
    ")"
   ]
  },
  {
   "cell_type": "code",
   "execution_count": null,
   "id": "776b0f8e-e871-48dc-af0e-fcbeb4fd5b17",
   "metadata": {},
   "outputs": [],
   "source": [
    "salaryRegModel4Fit = salaryRegModel4.fit()"
   ]
  },
  {
   "cell_type": "code",
   "execution_count": null,
   "id": "d26c6a1c-cb61-4595-a220-4f8f6bd1aa63",
   "metadata": {},
   "outputs": [],
   "source": [
    "print(salaryRegModel4Fit.summary())"
   ]
  },
  {
   "cell_type": "code",
   "execution_count": null,
   "id": "08d8b029-e1f0-41c5-8bfa-eb814e453a20",
   "metadata": {},
   "outputs": [],
   "source": [
    "salaryRegModel4Fit.transformer = salaryRegModel4Transformer\n",
    "salaryRegModel4Fit.mainPredictor = partial(generalRegressionPredictor, salaryRegModel4Fit)\n",
    "registerAJrjModel(\n",
    "    salaryRegModel4Fit,\n",
    "    {\n",
    "        \"modelName\":f\"salaryRegModel4Fit\",\n",
    "        \"version\":\"1.0.1\",\n",
    "        \"params\": salaryRegModel4Fit.params.to_dict(),\n",
    "        \"score\": float(salaryRegModel4Fit.rsquared),\n",
    "        \"modelLibraray\": 'sm.OLS',\n",
    "        \"libraryMetadata\": {\n",
    "            \"pvalues\": salaryRegModel4Fit.pvalues.to_dict(),\n",
    "            \"r_squared\": float(salaryRegModel4Fit.rsquared),\n",
    "            \"adj_r_squared\": float(salaryRegModel4Fit.rsquared_adj)\n",
    "        },\n",
    "    \n",
    "        \"sampleData\": {\n",
    "            \"dataForTransfer\": salaryRegModel1SampleData\n",
    "        }\n",
    "    }\n",
    ")"
   ]
  },
  {
   "cell_type": "code",
   "execution_count": null,
   "id": "3c605a96-06e1-4e08-9a3d-fc8aa9bb891b",
   "metadata": {},
   "outputs": [],
   "source": [
    "def salaryRegModel5Transformer(dataForTransfer = None):\n",
    "    import pandas as pd\n",
    "    import statsmodels.api as sm\n",
    "    if isinstance(dataForTransfer, pd.DataFrame):\n",
    "        df = dataForTransfer.copy()\n",
    "    else:\n",
    "        df = pd.DataFrame(dataForTransfer)\n",
    "    df['misXStatistics'] = df.apply(lambda row: row['MIS'] * row['Statistics'], axis=1)\n",
    "    df['misXGpa'] = df.apply(lambda row: row['MIS'] * row['GPA'], axis=1)\n",
    "    df['statisticsXGpa'] = df.apply(lambda row: row['Statistics'] * row['GPA'], axis=1)\n",
    "    df['misXStatisticsXGpa'] = df.apply(lambda row: row['MIS'] * row['Statistics'] * row['GPA'], axis=1)\n",
    "    dfTransformer = sm.add_constant(df[['GPA', 'MIS', 'Statistics', 'misXStatistics', 'misXGpa', 'statisticsXGpa', 'misXStatisticsXGpa']],has_constant='add')\n",
    "    return dfTransformer"
   ]
  },
  {
   "cell_type": "code",
   "execution_count": null,
   "id": "51491d80-ac4a-4177-aad6-1e8bb8b58766",
   "metadata": {},
   "outputs": [],
   "source": [
    "salaryRegModel5 = sm.OLS(\n",
    "  sallaryMisDf[\"Salary\"],\n",
    "  salaryRegModel5Transformer(sallaryMisDf)\n",
    ")"
   ]
  },
  {
   "cell_type": "code",
   "execution_count": null,
   "id": "38bc8e69-2e22-487b-a7a4-c6ac4d22ef2a",
   "metadata": {},
   "outputs": [],
   "source": [
    "salaryRegModel5Fit = salaryRegModel5.fit()"
   ]
  },
  {
   "cell_type": "code",
   "execution_count": null,
   "id": "db404344-d2bc-447c-b9fd-ccf12835dfc8",
   "metadata": {},
   "outputs": [],
   "source": [
    "print(salaryRegModel5Fit.summary())"
   ]
  },
  {
   "cell_type": "code",
   "execution_count": null,
   "id": "0968d8da-ac7a-4418-82ae-80acc4c9a111",
   "metadata": {},
   "outputs": [],
   "source": [
    "salaryRegModel5Fit.transformer = salaryRegModel5Transformer\n",
    "salaryRegModel5Fit.mainPredictor = partial(generalRegressionPredictor, salaryRegModel5Fit)\n",
    "registerAJrjModel(\n",
    "    salaryRegModel5Fit,\n",
    "    {\n",
    "        \"modelName\":f\"salaryRegModel5Fit\",\n",
    "        \"version\":\"1.0.1\",\n",
    "        \"params\": salaryRegModel5Fit.params.to_dict(),\n",
    "        \"score\": float(salaryRegModel5Fit.rsquared),\n",
    "        \"modelLibraray\": 'sm.OLS',\n",
    "        \"libraryMetadata\": {\n",
    "            \"pvalues\": salaryRegModel5Fit.pvalues.to_dict(),\n",
    "            \"r_squared\": float(salaryRegModel5Fit.rsquared),\n",
    "            \"adj_r_squared\": float(salaryRegModel5Fit.rsquared_adj)\n",
    "        },\n",
    "    \n",
    "        \"sampleData\": {\n",
    "            \"dataForTransfer\": salaryRegModel1SampleData\n",
    "        }\n",
    "    }\n",
    ")"
   ]
  },
  {
   "cell_type": "markdown",
   "id": "e15ca44d-4460-4bac-acdf-5465122e3f36",
   "metadata": {},
   "source": [
    "## AFTER AREFULLY LOOKUP WE RELIZED  salaryRegModel2Fit SO LETS KEEP IT AS THE BEST"
   ]
  },
  {
   "cell_type": "code",
   "execution_count": null,
   "id": "75f1bf7a-f316-4d48-996a-d6d94b4fddfd",
   "metadata": {},
   "outputs": [],
   "source": [
    "compareDf = pd.read_csv('./salaryRegModelsComparison.csv')"
   ]
  },
  {
   "cell_type": "code",
   "execution_count": null,
   "id": "e2bd268e-b80b-4ed2-9bb0-90a03e439228",
   "metadata": {},
   "outputs": [],
   "source": [
    "compareDf"
   ]
  },
  {
   "cell_type": "code",
   "execution_count": null,
   "id": "66a87a71-f543-455e-8018-c48b7c7b49e8",
   "metadata": {},
   "outputs": [],
   "source": [
    "registerAJrjModel(\n",
    "    salaryRegModel2Fit,\n",
    "    {\n",
    "        \"modelName\":f\"salaryRegModelBEST\",\n",
    "        \"version\":\"1.0.1\",\n",
    "        \"params\": salaryRegModel2Fit.params.to_dict(),\n",
    "        \"score\": float(salaryRegModel2Fit.rsquared),\n",
    "        \"modelLibraray\": 'sm.OLS',\n",
    "        \"libraryMetadata\": {\n",
    "            \"pvalues\": salaryRegModel2Fit.pvalues.to_dict(),\n",
    "            \"r_squared\": float(salaryRegModel2Fit.rsquared),\n",
    "            \"adj_r_squared\": float(salaryRegModel2Fit.rsquared_adj)\n",
    "        },\n",
    "    \n",
    "        \"sampleData\": {\n",
    "            \"dataForTransfer\": salaryRegModel1SampleData\n",
    "        }\n",
    "    }\n",
    ")"
   ]
  },
  {
   "cell_type": "code",
   "execution_count": null,
   "id": "ef1f13f9-1a0b-4928-8c2b-457e5f5d1119",
   "metadata": {},
   "outputs": [],
   "source": []
  }
 ],
 "metadata": {
  "kernelspec": {
   "display_name": "Python 3 (ipykernel)",
   "language": "python",
   "name": "python3"
  },
  "language_info": {
   "codemirror_mode": {
    "name": "ipython",
    "version": 3
   },
   "file_extension": ".py",
   "mimetype": "text/x-python",
   "name": "python",
   "nbconvert_exporter": "python",
   "pygments_lexer": "ipython3",
   "version": "3.13.3"
  }
 },
 "nbformat": 4,
 "nbformat_minor": 5
}
